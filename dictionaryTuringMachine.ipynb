{
 "cells": [
  {
   "cell_type": "markdown",
   "id": "8d9fb335",
   "metadata": {},
   "source": [
    "# Dictionary Turing Machine: Implementation and Example\n",
    "adapted from Boaz's implementation of a standard Turing machine"
   ]
  },
  {
   "cell_type": "code",
   "execution_count": 2,
   "id": "dcd38a5f",
   "metadata": {},
   "outputs": [],
   "source": [
    "def xortm(state,sym):\n",
    "    # sample transition function for the primary tape of a Dictionary Turing Machine\n",
    "    move = \"R\"\n",
    "    if state==\"START\":  state = \"EVEN\"\n",
    "    elif state in [\"EVEN\",\"ODD\"]:\n",
    "        if sym==\"1\":\n",
    "            # flip state if we see a 1\n",
    "            state = \"EVEN\" if state==\"ODD\" else \"ODD\"\n",
    "        elif sym== \"∅\":\n",
    "            # at end of tape decide on output based on parity\n",
    "            state = \"OUTPUT1\" if state==\"ODD\" else \"OUTPUT0\"\n",
    "            move  = \"L\"\n",
    "    # boilerplate\n",
    "    elif state in [\"OUTPUT1\",\"OUTPUT0\"]:\n",
    "        if sym != \"▷\":\n",
    "            move, sym  = \"L\", \"∅\"\n",
    "        else:\n",
    "            move, state = \"R\" , state[-1]+\"ANDSTOP\"\n",
    "    elif state[1:] ==\"ANDSTOP\":\n",
    "        move, sym = \"H\", state[0]   \n",
    "    return state,sym,move"
   ]
  },
  {
   "cell_type": "code",
   "execution_count": 28,
   "id": "a83bca41",
   "metadata": {},
   "outputs": [],
   "source": [
    "def xortm2(state,sym):\n",
    "    # sample transition function for the key and value tapes of a Dictionary Turing Machine\n",
    "    move = \"R\"\n",
    "    if state==\"START\":  state = \"EVEN\"\n",
    "    elif state in [\"EVEN\",\"ODD\"]:\n",
    "        if sym==\"1\":\n",
    "            # flip state if we see a 1\n",
    "            state = \"EVEN\" if state==\"ODD\" else \"ODD\"\n",
    "        elif sym== \"∅\":\n",
    "            # at end of tape decide on output based on parity\n",
    "            state = \"OUTPUT1\" if state==\"ODD\" else \"OUTPUT0\"\n",
    "            move  = \"L\"\n",
    "    # boilerplate\n",
    "    elif state in [\"OUTPUT1\",\"OUTPUT0\"]:\n",
    "        if sym != \"▷\":\n",
    "            move, sym  = \"L\", \"∅\"\n",
    "        else:\n",
    "            move, state = \"R\" , state[-1]+\"ANDSTOP\"\n",
    "    elif state[1:] ==\"ANDSTOP\":\n",
    "        move, sym = \"H\", state[0]   \n",
    "    return sym,move"
   ]
  },
  {
   "cell_type": "code",
   "execution_count": 18,
   "id": "5d8c5a34",
   "metadata": {},
   "outputs": [],
   "source": [
    "def stringOfTape(tape):\n",
    "    #takes a tape and strips off the \"▷\" and \"∅\" characters\n",
    "    return tape[1:-1]"
   ]
  },
  {
   "cell_type": "code",
   "execution_count": 44,
   "id": "f9eb98f0",
   "metadata": {},
   "outputs": [],
   "source": [
    "class DictionaryTuringMachine:\n",
    "   \n",
    "    def __init__(self, transition, ktransition, vtransition):\n",
    "        self.alphabet = [ \"▷\", \"∅\",\"0\", \"1\" ] \n",
    "        self.transition = transition\n",
    "        self.ktransition = ktransition\n",
    "        self.vtransition = vtransition\n",
    "        \n",
    "    def input(self, x):\n",
    "        self.tape = [ \"▷\" ] + [str(a) for a in x ] + [ \"∅\" ]\n",
    "        self.state = \"START\"\n",
    "        self.head = 0\n",
    "        \n",
    "    def key(self, x):\n",
    "        self.key = [ \"▷\" ] + [str(a) for a in x ] + [ \"∅\" ]\n",
    "        self.khead = 0\n",
    "        \n",
    "    def value(self, x):\n",
    "        self.value = [ \"▷\" ] + [str(a) for a in x ] + [ \"∅\" ]\n",
    "        self.vhead = 0\n",
    "        \n",
    "    def table(self, T):\n",
    "        self.table = T\n",
    "      \n",
    "    def run(self):\n",
    "        while True:\n",
    "            if self.state == \"READ\":\n",
    "                if self.key in self.table:\n",
    "                    x = self.table[stringOfTape(self.key)]\n",
    "                    self.value = [ \"▷\" ] + [str(a) for a in x ] + [ \"∅\" ]\n",
    "                else:\n",
    "                    self.value = [ \"▷\" ] + [ \"∅\" ]\n",
    "            elif self.state == \"WRITE\":\n",
    "                self.table[stringOfTape(self.key)] = stringOfTape(self.value)\n",
    "            \n",
    "            self.state, self.tape[self.head], move, = self.transition(self.state, self.tape[self.head])\n",
    "            \n",
    "            self.key[self.khead], kmove = self.ktransition(self.state, self.key[self.khead])\n",
    "            \n",
    "            self.key[self.vhead], vmove = self.vtransition(self.state, self.value[self.vhead])\n",
    "\n",
    "            if move==\"L\": self.head = max(0, self.head-1)\n",
    "            if move==\"R\":self.head += 1\n",
    "            if move==\"H\": break\n",
    "            if self.head >= len(self.tape): \n",
    "                self.tape.append(\"∅\")\n",
    "            if self.khead >= len(self.key): \n",
    "                self.key.append(\"∅\")\n",
    "            if self.vhead >= len(self.value): \n",
    "                self.value.append(\"∅\")\n",
    "        return self.tape[1]"
   ]
  },
  {
   "cell_type": "code",
   "execution_count": 45,
   "id": "953e4c4d",
   "metadata": {},
   "outputs": [
    {
     "data": {
      "text/plain": [
       "'0'"
      ]
     },
     "execution_count": 45,
     "metadata": {},
     "output_type": "execute_result"
    }
   ],
   "source": [
    "DTM = DictionaryTuringMachine(xortm, xortm2, xortm2)\n",
    "DTM.input([0,1,0,1,1,1,1,0,0,1])\n",
    "DTM.key([0,1,0,1,1,1,1,0,0,1])\n",
    "DTM.value([0,1,0,1,1,0,0,1,0,1])\n",
    "DTM.table({'0010':'11'})\n",
    "DTM.run()"
   ]
  }
 ],
 "metadata": {
  "kernelspec": {
   "display_name": "Python 3 (ipykernel)",
   "language": "python",
   "name": "python3"
  },
  "language_info": {
   "codemirror_mode": {
    "name": "ipython",
    "version": 3
   },
   "file_extension": ".py",
   "mimetype": "text/x-python",
   "name": "python",
   "nbconvert_exporter": "python",
   "pygments_lexer": "ipython3",
   "version": "3.10.4"
  }
 },
 "nbformat": 4,
 "nbformat_minor": 5
}
