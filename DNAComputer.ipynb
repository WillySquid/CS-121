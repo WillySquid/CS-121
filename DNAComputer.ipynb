{
 "cells": [
  {
   "cell_type": "markdown",
   "id": "75d2c750",
   "metadata": {},
   "source": [
    "# IMPLEMENTING A DNA COMPUTER"
   ]
  },
  {
   "cell_type": "markdown",
   "id": "aa8e93b9",
   "metadata": {},
   "source": [
    "# example functions"
   ]
  },
  {
   "cell_type": "code",
   "execution_count": 5,
   "id": "d3fa3a6f",
   "metadata": {},
   "outputs": [],
   "source": [
    "def sampleEncoder(digit):\n",
    "    #takes a digit in {0, 1} and returns a string from {A, G, C, T}\n",
    "    if digit == \"0\":\n",
    "        return \"A\"\n",
    "    elif digit == \"1\":\n",
    "        return \"G\""
   ]
  },
  {
   "cell_type": "code",
   "execution_count": 33,
   "id": "012d1c53",
   "metadata": {},
   "outputs": [],
   "source": [
    "def sampleM(neighborhood):\n",
    "    #takes a string from {A, G, C, T}^l and returns a string from {A, G, C, T}*\n",
    "    output = \"\"\n",
    "    for base in neighborhood:\n",
    "        output += 2*base\n",
    "    return output"
   ]
  },
  {
   "cell_type": "markdown",
   "id": "3658e1a4",
   "metadata": {},
   "source": [
    "# set values"
   ]
  },
  {
   "cell_type": "code",
   "execution_count": 56,
   "id": "f2507467",
   "metadata": {},
   "outputs": [],
   "source": [
    "#x is a binary string\n",
    "x = \"0010\"\n",
    "\n",
    "#l is a positive integer\n",
    "l = 4\n",
    "\n",
    "#encoder is a function from {0, 1} to {A, G, C, T}*\n",
    "encoder = sampleEncoder\n",
    "\n",
    "#M is the mechanism of the DNA computer, a function from {A, G, C, T}^l to {A, G, C, T}*\n",
    "M = sampleM"
   ]
  },
  {
   "cell_type": "markdown",
   "id": "3735ef35",
   "metadata": {},
   "source": [
    "# general"
   ]
  },
  {
   "cell_type": "code",
   "execution_count": 45,
   "id": "3ed6ede3",
   "metadata": {},
   "outputs": [],
   "source": [
    "def getY0(x):\n",
    "    #returns y, the concatenation of the encodings of the digits of x\n",
    "    y = \"C\"\n",
    "    for digit in x:\n",
    "        y += encoder(digit)\n",
    "    y += l*\"T\"\n",
    "    return y"
   ]
  },
  {
   "cell_type": "code",
   "execution_count": 39,
   "id": "80a46846",
   "metadata": {},
   "outputs": [],
   "source": [
    "def getNextY(y):\n",
    "    #given y_i, returns y_{i+1}\n",
    "    nextY = \"\"\n",
    "    for i in range(len(y)-l):\n",
    "        neighborhood = y[i:i+l]\n",
    "        nextY += M(neighborhood)\n",
    "    return nextY"
   ]
  },
  {
   "cell_type": "code",
   "execution_count": 51,
   "id": "3c227700",
   "metadata": {},
   "outputs": [],
   "source": [
    "def halt(yn):\n",
    "    #returns True iff the DNA computer should halt\n",
    "    return (yn[0] == \"C\" and yn[-2] == \"TT\" and (yn[1:-2] == encoder(0) or ny[1:-2] == encoder(1)))"
   ]
  },
  {
   "cell_type": "code",
   "execution_count": 53,
   "id": "f4b13e74",
   "metadata": {},
   "outputs": [],
   "source": [
    "def compute(M, x):\n",
    "    #computes the DNA computer defined by the mechanism M on the input x\n",
    "    yn = getY0(x)\n",
    "    while halt(yn) == False:\n",
    "        yn = getNextY(yn)\n",
    "    return yn[1:-2]"
   ]
  },
  {
   "cell_type": "code",
   "execution_count": 57,
   "id": "7e966e1c",
   "metadata": {},
   "outputs": [
    {
     "ename": "KeyboardInterrupt",
     "evalue": "",
     "output_type": "error",
     "traceback": [
      "\u001b[1;31m---------------------------------------------------------------------------\u001b[0m",
      "\u001b[1;31mKeyboardInterrupt\u001b[0m                         Traceback (most recent call last)",
      "Input \u001b[1;32mIn [57]\u001b[0m, in \u001b[0;36m<cell line: 1>\u001b[1;34m()\u001b[0m\n\u001b[1;32m----> 1\u001b[0m \u001b[43mcompute\u001b[49m\u001b[43m(\u001b[49m\u001b[43msampleM\u001b[49m\u001b[43m,\u001b[49m\u001b[43m \u001b[49m\u001b[43mx\u001b[49m\u001b[43m)\u001b[49m\n",
      "Input \u001b[1;32mIn [53]\u001b[0m, in \u001b[0;36mcompute\u001b[1;34m(M, x)\u001b[0m\n\u001b[0;32m      2\u001b[0m yn \u001b[38;5;241m=\u001b[39m getY0(x)\n\u001b[0;32m      3\u001b[0m \u001b[38;5;28;01mwhile\u001b[39;00m halt(yn) \u001b[38;5;241m==\u001b[39m \u001b[38;5;28;01mFalse\u001b[39;00m:\n\u001b[1;32m----> 4\u001b[0m     yn \u001b[38;5;241m=\u001b[39m \u001b[43mgetNextY\u001b[49m\u001b[43m(\u001b[49m\u001b[43myn\u001b[49m\u001b[43m)\u001b[49m\n\u001b[0;32m      5\u001b[0m \u001b[38;5;28;01mreturn\u001b[39;00m yn[\u001b[38;5;241m1\u001b[39m:\u001b[38;5;241m-\u001b[39m\u001b[38;5;241m2\u001b[39m]\n",
      "Input \u001b[1;32mIn [39]\u001b[0m, in \u001b[0;36mgetNextY\u001b[1;34m(y)\u001b[0m\n\u001b[0;32m      3\u001b[0m \u001b[38;5;28;01mfor\u001b[39;00m i \u001b[38;5;129;01min\u001b[39;00m \u001b[38;5;28mrange\u001b[39m(\u001b[38;5;28mlen\u001b[39m(y)\u001b[38;5;241m-\u001b[39ml):\n\u001b[0;32m      4\u001b[0m     neighborhood \u001b[38;5;241m=\u001b[39m y[i:i\u001b[38;5;241m+\u001b[39ml]\n\u001b[1;32m----> 5\u001b[0m     nextY \u001b[38;5;241m+\u001b[39m\u001b[38;5;241m=\u001b[39m \u001b[43mM\u001b[49m\u001b[43m(\u001b[49m\u001b[43mneighborhood\u001b[49m\u001b[43m)\u001b[49m\n\u001b[0;32m      6\u001b[0m \u001b[38;5;28;01mreturn\u001b[39;00m nextY\n",
      "Input \u001b[1;32mIn [33]\u001b[0m, in \u001b[0;36msampleM\u001b[1;34m(neighborhood)\u001b[0m\n\u001b[1;32m----> 1\u001b[0m \u001b[38;5;28;01mdef\u001b[39;00m \u001b[38;5;21msampleM\u001b[39m(neighborhood):\n\u001b[0;32m      2\u001b[0m     output \u001b[38;5;241m=\u001b[39m \u001b[38;5;124m\"\u001b[39m\u001b[38;5;124m\"\u001b[39m\n\u001b[0;32m      3\u001b[0m     \u001b[38;5;28;01mfor\u001b[39;00m base \u001b[38;5;129;01min\u001b[39;00m neighborhood:\n",
      "\u001b[1;31mKeyboardInterrupt\u001b[0m: "
     ]
    }
   ],
   "source": [
    "compute(sampleM, x)"
   ]
  }
 ],
 "metadata": {
  "kernelspec": {
   "display_name": "Python 3 (ipykernel)",
   "language": "python",
   "name": "python3"
  },
  "language_info": {
   "codemirror_mode": {
    "name": "ipython",
    "version": 3
   },
   "file_extension": ".py",
   "mimetype": "text/x-python",
   "name": "python",
   "nbconvert_exporter": "python",
   "pygments_lexer": "ipython3",
   "version": "3.10.4"
  }
 },
 "nbformat": 4,
 "nbformat_minor": 5
}
